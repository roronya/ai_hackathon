{
 "cells": [
  {
   "cell_type": "code",
   "execution_count": 1,
   "metadata": {
    "collapsed": false
   },
   "outputs": [],
   "source": [
    "import numpy as np\n",
    "import pandas as pd\n",
    "from pandas import DataFrame, Series\n",
    "import json\n",
    "import requests"
   ]
  },
  {
   "cell_type": "code",
   "execution_count": 2,
   "metadata": {
    "collapsed": false
   },
   "outputs": [],
   "source": [
    "ranking_url = 'https://itunes.apple.com/jp/rss/topfreeapplications/limit=100/json'\n",
    "raw_ranking = requests.get(ranking_url).json()\n",
    "ranking = [{'id': entry['id']['attributes']['im:id'], 'name': entry['im:name']}for entry in raw_ranking['feed']['entry']]"
   ]
  },
  {
   "cell_type": "code",
   "execution_count": 3,
   "metadata": {
    "collapsed": false
   },
   "outputs": [],
   "source": [
    "data = []\n",
    "for element in ranking:\n",
    "    review_url = 'https://itunes.apple.com/jp/rss/customerreviews/id={0}/json'.format(element['id'])\n",
    "    raw_reviews = requests.get(review_url).json()\n",
    "    try:\n",
    "        reviews = [review['content']['label'] for review in raw_reviews['feed']['entry'][1:50]]\n",
    "        for review in reviews:\n",
    "            data.append({'id': element['id'], 'name': element['name'], 'review': review.encode('utf-8')})\n",
    "    except KeyError:\n",
    "        continue\n",
    "data = Series(data)\n",
    "data = data.dropna()"
   ]
  },
  {
   "cell_type": "code",
   "execution_count": 11,
   "metadata": {
    "collapsed": false
   },
   "outputs": [],
   "source": [
    "data.to_csv(\"review.csv\", encoding=\"UTF-8\")"
   ]
  },
  {
   "cell_type": "code",
   "execution_count": 4,
   "metadata": {
    "collapsed": false
   },
   "outputs": [],
   "source": [
    "from AI import AI\n",
    "ai = AI()"
   ]
  },
  {
   "cell_type": "code",
   "execution_count": 5,
   "metadata": {
    "collapsed": false
   },
   "outputs": [],
   "source": [
    "#AIにドキュメントを登録\n",
    "result = []\n",
    "for i in range(len(data)):\n",
    "    result.append(ai.register_document(i, 889, data[i]['review']))"
   ]
  },
  {
   "cell_type": "code",
   "execution_count": 10,
   "metadata": {
    "collapsed": false
   },
   "outputs": [],
   "source": [
    "#みんながスパムと判断したやつを突っ込む\n",
    "h = 3159\n",
    "hoge = [\"♪( ´▽｀)\", \"あ\", \"なかなか\", \"wcuigt\", \"い\", \"00ba50使って下さい\", \"28B0D0C162\", \"たの\", \"Love the Naruto gacha toy....Can't wait for Misuji steak....simply deliious\"]\n",
    "for i in range(len(hoge)):\n",
    "    ai.register_document(i+h, 889, hoge[i])"
   ]
  },
  {
   "cell_type": "code",
   "execution_count": 12,
   "metadata": {
    "collapsed": false
   },
   "outputs": [
    {
     "data": {
      "text/plain": [
       "u'{\"result\":\"success\"}'"
      ]
     },
     "execution_count": 12,
     "metadata": {},
     "output_type": "execute_result"
    }
   ],
   "source": [
    "# 教師データ登録\n",
    "ai.register_teacher(1, 889, [3159, 3160, 3161, 3162, 3163, 3164, 3165, 3166, 3167], )"
   ]
  },
  {
   "cell_type": "code",
   "execution_count": 24,
   "metadata": {
    "collapsed": false
   },
   "outputs": [
    {
     "data": {
      "text/plain": [
       "u'{\"result\":\"success\"}'"
      ]
     },
     "execution_count": 24,
     "metadata": {},
     "output_type": "execute_result"
    }
   ],
   "source": [
    "ai.register_teacher(2, 889, [3159, 3160, 3161, 3162, 3163, 3164, 3165, 3166, 3167], [1, 4, 33, 44, 60, 61, 80, 114, 148, 174])"
   ]
  },
  {
   "cell_type": "code",
   "execution_count": 37,
   "metadata": {
    "collapsed": false
   },
   "outputs": [],
   "source": [
    "spam_ids = [i['documentId'] for i in json.loads(ai.get_result(2, 889))['documents']][0:8]"
   ]
  },
  {
   "cell_type": "code",
   "execution_count": 42,
   "metadata": {
    "collapsed": false
   },
   "outputs": [],
   "source": [
    "spam_ids = [2504, 207, 210, 1383, 1400, 3101]"
   ]
  },
  {
   "cell_type": "code",
   "execution_count": 45,
   "metadata": {
    "collapsed": false
   },
   "outputs": [],
   "source": [
    "#スパム削除\n",
    "data = data.drop(spam_ids)"
   ]
  },
  {
   "cell_type": "code",
   "execution_count": 46,
   "metadata": {
    "collapsed": false
   },
   "outputs": [],
   "source": [
    "samples = np.random.randint(len(data), size=(100))"
   ]
  },
  {
   "cell_type": "code",
   "execution_count": 47,
   "metadata": {
    "collapsed": false
   },
   "outputs": [],
   "source": [
    "samples = data[samples]"
   ]
  },
  {
   "cell_type": "code",
   "execution_count": 48,
   "metadata": {
    "collapsed": false
   },
   "outputs": [],
   "source": [
    "samples.to_csv('sample4.csv', encoding=\"UTF-8\")"
   ]
  },
  {
   "cell_type": "code",
   "execution_count": 53,
   "metadata": {
    "collapsed": false
   },
   "outputs": [],
   "source": [
    "tomobe = pd.read_csv(\"sample2/tomobe.csv\", header=None)"
   ]
  },
  {
   "cell_type": "code",
   "execution_count": 57,
   "metadata": {
    "collapsed": false
   },
   "outputs": [],
   "source": [
    "tomobe = tomobe[[0, 2, 3]]"
   ]
  },
  {
   "cell_type": "code",
   "execution_count": 74,
   "metadata": {
    "collapsed": false
   },
   "outputs": [],
   "source": [
    "positiv = data[tomobe[tomobe[2] == True][0]]"
   ]
  },
  {
   "cell_type": "code",
   "execution_count": 81,
   "metadata": {
    "collapsed": false
   },
   "outputs": [],
   "source": [
    "positiv.to_csv('positiv.csv', encoding=\"UTF-8\")"
   ]
  },
  {
   "cell_type": "code",
   "execution_count": 94,
   "metadata": {
    "collapsed": false
   },
   "outputs": [],
   "source": [
    "is_positiv = (tomobe[2] == 1)\n",
    "is_not_positiv = ~is_positiv"
   ]
  },
  {
   "cell_type": "code",
   "execution_count": 102,
   "metadata": {
    "collapsed": false
   },
   "outputs": [],
   "source": [
    "positiv_tomobe_id = []\n",
    "for i in tomobe[is_positiv][0].values:\n",
    "    positiv_tomobe_id.append(i)"
   ]
  },
  {
   "cell_type": "code",
   "execution_count": 104,
   "metadata": {
    "collapsed": false
   },
   "outputs": [],
   "source": [
    "not_positiv_tomobe_id = []\n",
    "for i in tomobe[is_not_positiv][0].values:\n",
    "    not_positiv_tomobe_id.append(i)"
   ]
  },
  {
   "cell_type": "code",
   "execution_count": 165,
   "metadata": {
    "collapsed": false
   },
   "outputs": [],
   "source": [
    "result = []\n",
    "for i in data.index:\n",
    "    result.append(ai.register_document(i, 887, data[i]['review']))"
   ]
  },
  {
   "cell_type": "code",
   "execution_count": 185,
   "metadata": {
    "collapsed": false
   },
   "outputs": [],
   "source": [
    "positiv_tomobe_id.remove(1140)"
   ]
  },
  {
   "cell_type": "code",
   "execution_count": 193,
   "metadata": {
    "collapsed": false
   },
   "outputs": [
    {
     "data": {
      "text/plain": [
       "u'{\"result\":\"success\"}'"
      ]
     },
     "execution_count": 193,
     "metadata": {},
     "output_type": "execute_result"
    }
   ],
   "source": [
    "ai.register_teacher(11, 887, positiv_tomobe_id[0:11], not_positiv_tomobe_id[0:11])"
   ]
  },
  {
   "cell_type": "code",
   "execution_count": 339,
   "metadata": {
    "collapsed": false
   },
   "outputs": [],
   "source": [
    "#ここまで 14:30\n",
    "positiv_result = json.loads(ai.get_result(11, 887))['documents']"
   ]
  },
  {
   "cell_type": "code",
   "execution_count": 310,
   "metadata": {
    "collapsed": false
   },
   "outputs": [
    {
     "data": {
      "text/plain": [
       "u'{\"result\":\"success\"}'"
      ]
     },
     "execution_count": 310,
     "metadata": {},
     "output_type": "execute_result"
    }
   ],
   "source": [
    "#ここから15:00\n",
    "ai.register_teacher(12,887, not_positiv_tomobe_id[0:11], positiv_tomobe_id[0:11])"
   ]
  },
  {
   "cell_type": "code",
   "execution_count": 341,
   "metadata": {
    "collapsed": false
   },
   "outputs": [],
   "source": [
    "negativ_result = json.loads(ai.get_result(12, 887))['documents']"
   ]
  },
  {
   "cell_type": "code",
   "execution_count": 355,
   "metadata": {
    "collapsed": false
   },
   "outputs": [
    {
     "data": {
      "text/plain": [
       "{u'documentId': 2781, u'score': 4038}"
      ]
     },
     "execution_count": 355,
     "metadata": {},
     "output_type": "execute_result"
    }
   ],
   "source": [
    "negativ_result[0]"
   ]
  },
  {
   "cell_type": "code",
   "execution_count": 356,
   "metadata": {
    "collapsed": false
   },
   "outputs": [],
   "source": [
    "for nr in negativ_result:\n",
    "    data[nr['documentId']]['negative_result'] = nr['score']"
   ]
  },
  {
   "cell_type": "code",
   "execution_count": 379,
   "metadata": {
    "collapsed": false
   },
   "outputs": [
    {
     "data": {
      "text/plain": [
       "{'id': u'443904275',\n 'name': {u'label': u'LINE'},\n 'negative_result': 0,\n 'positive_score': 0,\n 'review': '\\xe3\\x82\\x84\\xe3\\x81\\xa3\\xe3\\x81\\xb1\\xe3\\x82\\x8a\\xe3\\x81\\x93\\xe3\\x82\\x8c\\xe3\\x81\\x8c\\xe3\\x81\\xaa\\xe3\\x81\\x84\\xe3\\x81\\xa8\\xe3\\x81\\xa0\\xe3\\x82\\x81\\xe3\\x80\\x82\\n\\xe3\\x81\\x97\\xe3\\x81\\x84\\xe3\\x81\\xa6\\xe6\\x82\\xaa\\xe3\\x81\\x84\\xe3\\x81\\xa8\\xe3\\x81\\x93\\xe3\\x82\\x8d\\xe3\\x82\\x92\\xe3\\x81\\x82\\xe3\\x81\\x92\\xe3\\x82\\x8b\\xe3\\x81\\xaa\\xe3\\x82\\x89\\xe3\\x80\\x81\\xe5\\x8f\\x8b\\xe9\\x81\\x94\\xe8\\xbf\\xbd\\xe5\\x8a\\xa0\\xe3\\x81\\x97\\xe3\\x81\\x9f\\xe3\\x81\\xa8\\xe3\\x81\\x8d\\xe3\\x81\\xab\\xe9\\x87\\x8d\\xe3\\x81\\x84\\xe3\\x81\\x8b\\xe3\\x82\\x89\\xe3\\x81\\x8b\\xe3\\x81\\x97\\xe3\\x82\\x89\\xe3\\x82\\x93\\xe3\\x81\\x91\\xe3\\x81\\xa9\\xe3\\x81\\x8a\\xe3\\x81\\xa1\\xe3\\x82\\x8b\\xe3\\x80\\x82\\xe3\\x81\\x9d\\xe3\\x81\\x93\\xe3\\x81\\x8c\\xe6\\x9c\\x80\\xe6\\x82\\xaa'}"
      ]
     },
     "execution_count": 379,
     "metadata": {},
     "output_type": "execute_result"
    }
   ],
   "source": [
    "data[1]"
   ]
  },
  {
   "cell_type": "code",
   "execution_count": 380,
   "metadata": {
    "collapsed": false
   },
   "outputs": [],
   "source": [
    "tmp_score = {}\n",
    "for di in data.index[1:]:\n",
    "    if tmp_score.has_key(data[di]['id']):\n",
    "       tmp_score[data[di]['id']]['count'] += 1\n",
    "       tmp_score[data[di]['id']]['score'] += data[di]['positive_score'] - data[di]['negative_result']\n",
    "    else:\n",
    "        tmp_score[data[di]['id']] = {'score': data[di]['positive_score'] - data[di]['negative_result'], 'count': 1}"
   ]
  },
  {
   "cell_type": "code",
   "execution_count": 390,
   "metadata": {
    "collapsed": false
   },
   "outputs": [],
   "source": [
    "result_score = {}\n",
    "for k, v in tmp_score.items():\n",
    "    result_score[k] = v['score']/v['count']"
   ]
  },
  {
   "cell_type": "code",
   "execution_count": 396,
   "metadata": {
    "collapsed": false
   },
   "outputs": [],
   "source": [
    "semifinal_result = sorted(result_score.items(), key=lambda x:x[1], reverse=True)"
   ]
  },
  {
   "cell_type": "code",
   "execution_count": 397,
   "metadata": {
    "collapsed": false
   },
   "outputs": [
    {
     "data": {
      "text/plain": [
       "[(u'389801252', 77),\n (u'984440479', 62),\n (u'876258957', 37),\n (u'955367905', 17),\n (u'980865528', 14),\n (u'952608759', 8),\n (u'983904653', -1),\n (u'446278045', -5),\n (u'958048961', -6),\n (u'959454698', -15),\n (u'284815942', -17),\n (u'607974779', -19),\n (u'600843984', -21),\n (u'876291194', -27),\n (u'946755072', -30),\n (u'696463126', -37),\n (u'985072363', -37),\n (u'472143590', -46),\n (u'658511662', -48),\n (u'721512660', -69),\n (u'909566506', -69),\n (u'931854667', -86),\n (u'551682016', -87),\n (u'933166032', -90),\n (u'949244365', -91),\n (u'579581125', -99),\n (u'850417475', -99),\n (u'667861049', -105),\n (u'447339142', -105),\n (u'633246396', -105),\n (u'544007664', -116),\n (u'516561342', -122),\n (u'374254473', -122),\n (u'963073142', -140),\n (u'491903216', -148),\n (u'291676451', -157),\n (u'956081467', -158),\n (u'970817084', -165),\n (u'437758919', -166),\n (u'919478091', -171),\n (u'454638411', -172),\n (u'952578897', -172),\n (u'905173595', -175),\n (u'673540001', -175),\n (u'714796093', -177),\n (u'443904275', -178),\n (u'862800897', -179),\n (u'362057947', -187),\n (u'899997582', -190),\n (u'477396335', -192),\n (u'895761422', -195),\n (u'931894765', -200),\n (u'479159684', -208),\n (u'953384575', -212),\n (u'284882215', -214),\n (u'826184770', -214),\n (u'763377066', -217),\n (u'421254504', -231),\n (u'340368403', -242),\n (u'407906756', -259),\n (u'906930478', -274),\n (u'333903271', -286),\n (u'739787904', -289),\n (u'962231849', -455),\n (u'987360477', -516)]"
      ]
     },
     "execution_count": 397,
     "metadata": {},
     "output_type": "execute_result"
    }
   ],
   "source": [
    "semifinal_result"
   ]
  },
  {
   "cell_type": "code",
   "execution_count": 465,
   "metadata": {
    "collapsed": false
   },
   "outputs": [],
   "source": [
    "final_result = []\n",
    "lookup_url = 'https://itunes.apple.com/jp/app/id'\n",
    "for i in semifinal_result:\n",
    "    lookup_result = requests.get(lookup_url + i[0].encode('utf8')).text\n",
    "    d = pq(lookup_result)\n",
    "    img = d(\"#left-stack > div.lockup.product.application > a:nth-child(1) > div > img\")\n",
    "    image_url = img.attr(\"src-swap-high-dpi\")\n",
    "    final_result.append({'id': i[0], 'score': i[1], 'image': image_url})"
   ]
  },
  {
   "cell_type": "code",
   "execution_count": 468,
   "metadata": {
    "collapsed": false
   },
   "outputs": [
    {
     "data": {
      "text/plain": [
       "'[{\"image\": \"http://a2.mzstatic.com/jp/r30/Purple1/v4/da/96/ab/da96ab96-8699-495d-4af6-d8215662d449/icon350x350.png\", \"score\": 77, \"id\": \"389801252\"}, {\"image\": \"http://a1.mzstatic.com/jp/r30/Purple7/v4/86/3f/67/863f67c3-22d0-6e87-62e3-a96d58ed60c6/icon350x350.png\", \"score\": 62, \"id\": \"984440479\"}, {\"image\": \"http://a3.mzstatic.com/jp/r30/Purple5/v4/a0/55/88/a0558837-c1a1-2da2-a082-a4afb7482f72/icon350x350.png\", \"score\": 37, \"id\": \"876258957\"}, {\"image\": \"http://a1.mzstatic.com/jp/r30/Purple3/v4/9c/d0/ac/9cd0ac97-229d-623e-d8fa-606ef2d3f6ed/icon350x350.png\", \"score\": 17, \"id\": \"955367905\"}, {\"image\": \"http://a3.mzstatic.com/jp/r30/Purple1/v4/b7/a4/de/b7a4deaf-3639-0508-5ff6-afcd898aad77/icon350x350.jpeg\", \"score\": 14, \"id\": \"980865528\"}, {\"image\": \"http://a2.mzstatic.com/jp/r30/Purple5/v4/91/79/f4/9179f483-7b8d-2a45-8daa-caee9ac5852a/icon350x350.jpeg\", \"score\": 8, \"id\": \"952608759\"}, {\"image\": \"http://a4.mzstatic.com/jp/r30/Purple7/v4/1b/98/c4/1b98c4d5-96ff-f85c-d2ac-977f275bf09b/icon350x350.jpeg\", \"score\": -1, \"id\": \"983904653\"}, {\"image\": \"http://a1.mzstatic.com/jp/r30/Purple3/v4/8b/15/39/8b1539aa-70ce-6499-69a3-0b4b343152be/icon350x350.jpeg\", \"score\": -5, \"id\": \"446278045\"}, {\"image\": \"http://a1.mzstatic.com/jp/r30/Purple7/v4/ff/4b/7e/ff4b7e06-7ad8-fb28-2585-3c26222552e5/icon350x350.png\", \"score\": -6, \"id\": \"958048961\"}, {\"image\": \"http://a5.mzstatic.com/jp/r30/Purple1/v4/95/5e/95/955e95df-8503-a231-ae2c-c25a1ed6125b/icon350x350.jpeg\", \"score\": -15, \"id\": \"959454698\"}, {\"image\": \"http://a4.mzstatic.com/jp/r30/Purple7/v4/a0/48/38/a0483821-3b00-44fe-aba5-720c52d15e9a/icon350x350.png\", \"score\": -17, \"id\": \"284815942\"}, {\"image\": \"http://a5.mzstatic.com/jp/r30/Purple7/v4/47/96/37/479637ce-98e1-b9ea-16ee-874772542b5e/icon350x350.jpeg\", \"score\": -19, \"id\": \"607974779\"}, {\"image\": \"http://a4.mzstatic.com/jp/r30/Purple3/v4/10/67/8c/10678c8c-21d7-3945-7cae-ed3fe8a1cea6/icon350x350.png\", \"score\": -21, \"id\": \"600843984\"}, {\"image\": \"http://a1.mzstatic.com/jp/r30/Purple1/v4/57/92/94/579294e7-f2c7-18ca-f6c1-e13b56ede240/icon350x350.jpeg\", \"score\": -27, \"id\": \"876291194\"}, {\"image\": \"http://a5.mzstatic.com/jp/r30/Purple3/v4/bc/68/14/bc6814f4-0e24-99d2-7d1d-6f5cc141445e/icon350x350.jpeg\", \"score\": -30, \"id\": \"946755072\"}, {\"image\": \"http://a5.mzstatic.com/jp/r30/Purple5/v4/35/a8/20/35a820d5-0a79-5ba2-7c08-98b357c687cf/icon350x350.png\", \"score\": -37, \"id\": \"696463126\"}, {\"image\": \"http://a4.mzstatic.com/jp/r30/Purple7/v4/d7/e8/38/d7e838e6-6099-4b16-2b69-3a75f6228bed/icon350x350.png\", \"score\": -37, \"id\": \"985072363\"}, {\"image\": \"http://a4.mzstatic.com/jp/r30/Purple3/v4/f9/41/66/f94166cc-2d0a-003f-cd06-026f62930abe/icon350x350.png\", \"score\": -46, \"id\": \"472143590\"}, {\"image\": \"http://a2.mzstatic.com/jp/r30/Purple7/v4/39/02/88/390288f6-c12c-b89c-841b-38cba82fb6e0/icon350x350.png\", \"score\": -48, \"id\": \"658511662\"}, {\"image\": \"http://a5.mzstatic.com/jp/r30/Purple1/v4/03/53/4a/03534a4b-e8bd-a58f-6428-a48f40dae498/icon350x350.png\", \"score\": -69, \"id\": \"721512660\"}, {\"image\": \"http://a1.mzstatic.com/jp/r30/Purple5/v4/be/20/49/be204971-f789-8489-9d82-ef54c9c95674/icon350x350.png\", \"score\": -69, \"id\": \"909566506\"}, {\"image\": \"http://a2.mzstatic.com/jp/r30/Purple5/v4/a3/cd/da/a3cdda2e-a4f8-96fd-61bf-b7ecd9d81ece/icon350x350.jpeg\", \"score\": -86, \"id\": \"931854667\"}, {\"image\": \"http://a3.mzstatic.com/jp/r30/Purple1/v4/ca/2d/bc/ca2dbc1d-4af0-b543-06be-3c8dfa5a20c3/icon350x350.jpeg\", \"score\": -87, \"id\": \"551682016\"}, {\"image\": \"http://a2.mzstatic.com/jp/r30/Purple5/v4/bf/df/c0/bfdfc02c-6ca4-c4af-51d4-2401657aff8a/icon350x350.jpeg\", \"score\": -90, \"id\": \"933166032\"}, {\"image\": \"http://a1.mzstatic.com/jp/r30/Purple7/v4/9c/91/26/9c9126a9-49ac-b9da-1da2-e4b465f6a5b7/icon350x350.jpeg\", \"score\": -91, \"id\": \"949244365\"}, {\"image\": \"http://a2.mzstatic.com/jp/r30/Purple1/v4/78/cf/22/78cf22f7-ef0c-ad01-d4e7-51b76f5c31b9/icon350x350.png\", \"score\": -99, \"id\": \"579581125\"}, {\"image\": \"http://a1.mzstatic.com/jp/r30/Purple7/v4/5e/2d/3a/5e2d3a14-2249-0224-3982-843e778b4b01/icon350x350.jpeg\", \"score\": -99, \"id\": \"850417475\"}, {\"image\": \"http://a1.mzstatic.com/jp/r30/Purple1/v4/90/88/99/90889974-3543-b2b5-16d4-5269e3c5b0a6/icon350x350.png\", \"score\": -105, \"id\": \"667861049\"}, {\"image\": \"http://a5.mzstatic.com/jp/r30/Purple5/v4/ba/9e/90/ba9e90b1-2243-877b-987b-be767b0718ac/icon350x350.png\", \"score\": -105, \"id\": \"447339142\"}, {\"image\": \"http://a3.mzstatic.com/jp/r30/Purple7/v4/e3/b2/c3/e3b2c3b7-4d73-0752-6938-462403dad6ea/icon350x350.png\", \"score\": -105, \"id\": \"633246396\"}, {\"image\": \"http://a2.mzstatic.com/jp/r30/Purple1/v4/6c/bc/1e/6cbc1e31-a677-c6d7-f998-622281fa0b7b/icon350x350.png\", \"score\": -116, \"id\": \"544007664\"}, {\"image\": \"http://a5.mzstatic.com/jp/r30/Purple1/v4/0a/04/c9/0a04c93d-fd09-bd89-11a1-7fbebc6db1f9/icon350x350.png\", \"score\": -122, \"id\": \"516561342\"}, {\"image\": \"http://a4.mzstatic.com/jp/r30/Purple1/v4/31/d9/17/31d917c4-7608-67e9-b6e9-951805e76ce5/icon350x350.png\", \"score\": -122, \"id\": \"374254473\"}, {\"image\": \"http://a3.mzstatic.com/jp/r30/Purple1/v4/c8/1a/fd/c81afd5c-3e97-5fd3-a1f9-c23229a47779/icon350x350.jpeg\", \"score\": -140, \"id\": \"963073142\"}, {\"image\": \"http://a5.mzstatic.com/jp/r30/Purple/v4/f4/1a/9a/f41a9a61-8940-f8cd-131f-e87e4e8d78c1/icon350x350.png\", \"score\": -148, \"id\": \"491903216\"}, {\"image\": \"http://a2.mzstatic.com/jp/r30/Purple5/v4/9d/14/2c/9d142cea-c05c-5498-2141-58f42d715ef5/icon350x350.jpeg\", \"score\": -157, \"id\": \"291676451\"}, {\"image\": \"http://a2.mzstatic.com/jp/r30/Purple1/v4/e7/0c/7b/e70c7b16-a413-d93f-ca6a-840d61586958/icon350x350.png\", \"score\": -158, \"id\": \"956081467\"}, {\"image\": \"http://a4.mzstatic.com/jp/r30/Purple7/v4/c1/89/0a/c1890af3-4b1f-136a-adac-49651b52fad9/icon350x350.jpeg\", \"score\": -165, \"id\": \"970817084\"}, {\"image\": \"http://a5.mzstatic.com/jp/r30/Purple5/v4/38/5b/1e/385b1ee4-93db-2217-2fba-0cacfcf48d2c/icon350x350.png\", \"score\": -166, \"id\": \"437758919\"}, {\"image\": \"http://a4.mzstatic.com/jp/r30/Purple7/v4/32/71/24/32712483-3257-990b-946d-5b692c7fe690/icon350x350.png\", \"score\": -171, \"id\": \"919478091\"}, {\"image\": \"http://a5.mzstatic.com/jp/r30/Purple5/v4/1c/8c/ea/1c8ceaed-06c7-6b45-d3ea-588ead11da29/icon350x350.png\", \"score\": -172, \"id\": \"454638411\"}, {\"image\": \"http://a5.mzstatic.com/jp/r30/Purple3/v4/56/db/c4/56dbc421-bd76-2ba7-6825-34d32ec2226a/icon350x350.png\", \"score\": -172, \"id\": \"952578897\"}, {\"image\": \"http://a2.mzstatic.com/jp/r30/Purple1/v4/6c/b8/2a/6cb82a35-8ae4-866f-bbd8-7549fd9ed4ea/icon350x350.jpeg\", \"score\": -175, \"id\": \"905173595\"}, {\"image\": \"http://a5.mzstatic.com/jp/r30/Purple3/v4/c1/bb/44/c1bb4489-03c1-a6fa-fadb-53a9fe49d492/icon350x350.jpeg\", \"score\": -175, \"id\": \"673540001\"}, {\"image\": \"http://a1.mzstatic.com/jp/r30/Purple1/v4/12/3d/e4/123de420-2cde-9dea-9892-af284d5edec7/icon350x350.png\", \"score\": -177, \"id\": \"714796093\"}, {\"image\": \"http://a3.mzstatic.com/jp/r30/Purple7/v4/91/e4/fd/91e4fd0a-9279-d14c-f655-ef0cad680587/icon350x350.png\", \"score\": -178, \"id\": \"443904275\"}, {\"image\": \"http://a2.mzstatic.com/jp/r30/Purple3/v4/59/ff/35/59ff35fc-f073-8f73-09c9-82473ac18e99/icon350x350.jpeg\", \"score\": -179, \"id\": \"862800897\"}, {\"image\": \"http://a3.mzstatic.com/jp/r30/Purple5/v4/27/8e/13/278e13d6-3e80-0b12-6b73-52f8bfb4ac53/icon350x350.jpeg\", \"score\": -187, \"id\": \"362057947\"}, {\"image\": \"http://a2.mzstatic.com/jp/r30/Purple1/v4/91/5e/80/915e802c-a36b-eac4-70bf-5d089788d43e/icon350x350.png\", \"score\": -190, \"id\": \"899997582\"}, {\"image\": \"http://a2.mzstatic.com/jp/r30/Purple3/v4/51/92/f5/5192f5af-889c-4740-3193-897b99b2f192/icon350x350.png\", \"score\": -192, \"id\": \"477396335\"}, {\"image\": \"http://a2.mzstatic.com/jp/r30/Purple5/v4/b9/43/46/b94346c6-4ac2-2875-1b01-f8dda5e7bf26/icon350x350.jpeg\", \"score\": -195, \"id\": \"895761422\"}, {\"image\": \"http://a5.mzstatic.com/jp/r30/Purple5/v4/c9/6f/ec/c96fec5e-72ad-2ad5-387c-3f5a73d34e94/icon350x350.png\", \"score\": -200, \"id\": \"931894765\"}, {\"image\": \"http://a5.mzstatic.com/jp/r30/Purple1/v4/ca/75/29/ca7529a6-e94d-c645-bce6-8132b0fda4d8/icon350x350.jpeg\", \"score\": -208, \"id\": \"479159684\"}, {\"image\": \"http://a3.mzstatic.com/jp/r30/Purple7/v4/b9/24/05/b9240500-a45d-edde-eec1-d27b2c92a826/icon350x350.png\", \"score\": -212, \"id\": \"953384575\"}, {\"image\": \"http://a3.mzstatic.com/jp/r30/Purple1/v4/25/8c/2f/258c2f5b-e9c2-fd25-c940-a9bd936a9df2/icon350x350.jpeg\", \"score\": -214, \"id\": \"284882215\"}, {\"image\": \"http://a1.mzstatic.com/jp/r30/Purple3/v4/9d/cd/8b/9dcd8bf4-7d7a-f25b-deb6-4d1b03eefc5e/icon350x350.png\", \"score\": -214, \"id\": \"826184770\"}, {\"image\": \"http://a1.mzstatic.com/jp/r30/Purple5/v4/96/e8/8e/96e88eca-7486-69c5-560d-e2c89d054b6b/icon350x350.png\", \"score\": -217, \"id\": \"763377066\"}, {\"image\": \"http://a5.mzstatic.com/jp/r30/Purple5/v4/ea/a1/3f/eaa13fee-55fe-fda8-f03f-265cb710091a/icon350x350.jpeg\", \"score\": -231, \"id\": \"421254504\"}, {\"image\": \"http://a4.mzstatic.com/jp/r30/Purple1/v4/44/d3/a4/44d3a46d-1998-524f-f732-4138fecd9dd3/icon350x350.png\", \"score\": -242, \"id\": \"340368403\"}, {\"image\": \"http://a5.mzstatic.com/jp/r30/Purple1/v4/80/74/ce/8074ce64-d042-bd46-dfd0-16cbcd2d8718/icon350x350.jpeg\", \"score\": -259, \"id\": \"407906756\"}, {\"image\": \"http://a1.mzstatic.com/jp/r30/Purple3/v4/5b/31/46/5b314606-ffa7-d0ed-a001-90c733d29d06/icon350x350.jpeg\", \"score\": -274, \"id\": \"906930478\"}, {\"image\": \"http://a1.mzstatic.com/jp/r30/Purple7/v4/d3/25/71/d3257130-2977-979e-ce1f-5deaa8d9715b/icon350x350.png\", \"score\": -286, \"id\": \"333903271\"}, {\"image\": \"http://a3.mzstatic.com/jp/r30/Purple5/v4/25/5f/dd/255fdda3-52aa-d053-fee1-fcba663d1781/icon350x350.png\", \"score\": -289, \"id\": \"739787904\"}, {\"image\": \"http://a4.mzstatic.com/jp/r30/Purple7/v4/f7/63/7c/f7637c08-96a3-63de-6c6a-5cc4b4d704cf/icon350x350.jpeg\", \"score\": -455, \"id\": \"962231849\"}, {\"image\": \"http://a1.mzstatic.com/jp/r30/Purple7/v4/06/13/7f/06137f3b-be13-88c9-e336-a6f7f97017bd/icon350x350.png\", \"score\": -516, \"id\": \"987360477\"}]'"
      ]
     },
     "execution_count": 468,
     "metadata": {},
     "output_type": "execute_result"
    }
   ],
   "source": [
    "json.dumps(final_result)"
   ]
  },
  {
   "cell_type": "code",
   "execution_count": 419,
   "metadata": {
    "collapsed": false
   },
   "outputs": [
    {
     "data": {
      "text/plain": [
       "u'http://is5.mzstatic.com/image/pf/us/r30/Purple3/v4/12/17/2c/12172ca4-b044-b56a-7e7e-493480558b6c/pr_source.png'"
      ]
     },
     "execution_count": 419,
     "metadata": {},
     "output_type": "execute_result"
    }
   ],
   "source": [
    "response = requests.get('https://itunes.apple.com/lookup?id=876258957').json()\n",
    "response['results'][0]['artworkUrl512']"
   ]
  },
  {
   "cell_type": "code",
   "execution_count": 398,
   "metadata": {
    "collapsed": false
   },
   "outputs": [],
   "source": [
    "result = []\n",
    "lookup_url = 'https://itunes.apple.com/jp/app/id'"
   ]
  },
  {
   "cell_type": "code",
   "execution_count": 399,
   "metadata": {
    "collapsed": false
   },
   "outputs": [],
   "source": [
    "lookup_result = requests.get(lookup_url + '981863874')"
   ]
  },
  {
   "cell_type": "code",
   "execution_count": 400,
   "metadata": {
    "collapsed": false
   },
   "outputs": [],
   "source": [
    "from pyquery import PyQuery as pq"
   ]
  },
  {
   "cell_type": "code",
   "execution_count": 218,
   "metadata": {
    "collapsed": false
   },
   "outputs": [
    {
     "data": {
      "text/plain": [
       "<Response [200]>"
      ]
     },
     "execution_count": 218,
     "metadata": {},
     "output_type": "execute_result"
    }
   ],
   "source": [
    "#left-stack > div.lockup.product.application > a:nth-child(1) > div > img"
   ]
  },
  {
   "cell_type": "code",
   "execution_count": 463,
   "metadata": {
    "collapsed": false
   },
   "outputs": [
    {
     "data": {
      "text/plain": [
       "'http://a3.mzstatic.com/jp/r30/Purple5/v4/a0/55/88/a0558837-c1a1-2da2-a082-a4afb7482f72/icon350x350.png'"
      ]
     },
     "execution_count": 463,
     "metadata": {},
     "output_type": "execute_result"
    }
   ],
   "source": [
    "lookup_result = requests.get('https://itunes.apple.com/jp/app/id876258957')\n",
    "d = pq(lookup_result.text)\n",
    "img = d(\"#left-stack > div.lockup.product.application > a:nth-child(1) > div > img\")\n",
    "img.attr(\"src-swap-high-dpi\")"
   ]
  },
  {
   "cell_type": "code",
   "execution_count": 537,
   "metadata": {
    "collapsed": false
   },
   "outputs": [
    {
     "data": {
      "text/plain": [
       "65"
      ]
     },
     "execution_count": 537,
     "metadata": {},
     "output_type": "execute_result"
    }
   ],
   "source": [
    "len(semifinal_result)"
   ]
  },
  {
   "cell_type": "code",
   "execution_count": 489,
   "metadata": {
    "collapsed": false
   },
   "outputs": [],
   "source": [
    "import copy"
   ]
  },
  {
   "cell_type": "code",
   "execution_count": 514,
   "metadata": {
    "collapsed": false
   },
   "outputs": [],
   "source": [
    "hoge = copy.deepcopy(final_result)"
   ]
  },
  {
   "cell_type": "code",
   "execution_count": 516,
   "metadata": {
    "collapsed": false
   },
   "outputs": [],
   "source": [
    "for i in final_result:\n",
    "    i['positive'] = \"\"\n",
    "    i['negative'] = \"\""
   ]
  },
  {
   "cell_type": "code",
   "execution_count": 519,
   "metadata": {
    "collapsed": false
   },
   "outputs": [
    {
     "data": {
      "text/plain": [
       "[{u'documentId': 182, u'score': 2798}]"
      ]
     },
     "execution_count": 519,
     "metadata": {},
     "output_type": "execute_result"
    }
   ],
   "source": [
    "positiv_result[0:1]"
   ]
  },
  {
   "cell_type": "code",
   "execution_count": 534,
   "metadata": {
    "collapsed": false
   },
   "outputs": [],
   "source": [
    "for i in positiv_result:        \n",
    "    id = data[i['documentId']]['id']\n",
    "    review = data[i['documentId']]['review']\n",
    "    for j in final_result:\n",
    "        if j['id'] == id:\n",
    "           j['positive'] = review"
   ]
  },
  {
   "cell_type": "code",
   "execution_count": 576,
   "metadata": {
    "collapsed": false
   },
   "outputs": [],
   "source": [
    "for i in negativ_result:        \n",
    "    id = data[i['documentId']]['id']\n",
    "    review = data[i['documentId']]['review']\n",
    "    for j in final_result:\n",
    "        if j['id'] == id:\n",
    "           if j['positive'] != review:\n",
    "              j['negative'] = review"
   ]
  },
  {
   "cell_type": "code",
   "execution_count": 578,
   "metadata": {
    "collapsed": false
   },
   "outputs": [],
   "source": [
    "import codecs\n",
    "f = codecs.open('result.json', 'w', 'utf-8')\n",
    "f.write(json.dumps(final_result))\n",
    "f.close()"
   ]
  },
  {
   "cell_type": "code",
   "execution_count": 591,
   "metadata": {
    "collapsed": false
   },
   "outputs": [
    {
     "name": "stdout",
     "output_type": "stream",
     "text": [
      "1日で全クリしちゃったし、クリスタルも全部集めた。新しいステージ出来るの遅すぎ…\n",
      "あんま新ステージ出来るの遅いともう辞めちゃうかもー\n"
     ]
    }
   ],
   "source": [
    "print data[positiv_result[8]['documentId']]['review']"
   ]
  },
  {
   "cell_type": "code",
   "execution_count": 601,
   "metadata": {
    "collapsed": false
   },
   "outputs": [
    {
     "name": "stdout",
     "output_type": "stream",
     "text": [
      "他のアプリから戻ったあと強制的にトップに戻るのは非常に良くない。記事に関する調べごともおちおちできない。強制的にApp Storeに飛ぶリンク記事仕込まれててヤフーニュースに戻ったら読んでいた記事ではなくトップに強制移動とかかなりひどいよねこれ。\n"
     ]
    }
   ],
   "source": [
    "print data[negativ_result[0]['documentId']]['review']"
   ]
  }
 ],
 "metadata": {},
 "nbformat": 4,
 "nbformat_minor": 0
}
